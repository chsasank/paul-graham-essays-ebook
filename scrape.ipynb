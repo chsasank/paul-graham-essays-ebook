{
 "cells": [
  {
   "cell_type": "code",
   "execution_count": 1,
   "id": "fd01f4d2",
   "metadata": {
    "scrolled": true
   },
   "outputs": [],
   "source": [
    "import requests\n",
    "from bs4 import BeautifulSoup\n",
    "from tqdm.auto import tqdm"
   ]
  },
  {
   "cell_type": "code",
   "execution_count": 2,
   "id": "3fb141bc",
   "metadata": {},
   "outputs": [],
   "source": [
    "essays = requests.get('http://paulgraham.com/articles.html')"
   ]
  },
  {
   "cell_type": "code",
   "execution_count": 3,
   "id": "85b3cfcd",
   "metadata": {},
   "outputs": [],
   "source": [
    "essays_soup = BeautifulSoup(essays.content, 'html.parser')"
   ]
  },
  {
   "cell_type": "code",
   "execution_count": 4,
   "id": "2775ed51",
   "metadata": {},
   "outputs": [],
   "source": [
    "# do things that don't scale :P\n",
    "essay_links = essays_soup.find('table').find_all('table')[1].find_all('a')"
   ]
  },
  {
   "cell_type": "code",
   "execution_count": 5,
   "id": "db034866",
   "metadata": {
    "scrolled": false
   },
   "outputs": [],
   "source": [
    "essay_pages = [\n",
    "    (x.attrs['href'], x.text) for x in essay_links\n",
    "    if not x.attrs['href'].startswith('https://')\n",
    "]"
   ]
  },
  {
   "cell_type": "code",
   "execution_count": 6,
   "id": "c6b75eb1",
   "metadata": {},
   "outputs": [],
   "source": [
    "def extract_data(page):\n",
    "    url, title = page\n",
    "\n",
    "    soup = BeautifulSoup(requests.get(f'http://paulgraham.com/{url}').content, 'html.parser')\n",
    "    text = soup.find('table').find('font')\n",
    "    text.attrs = {}\n",
    "    text.name = 'div'\n",
    "    \n",
    "    return title, text"
   ]
  },
  {
   "cell_type": "code",
   "execution_count": null,
   "id": "5e8b6a6b",
   "metadata": {},
   "outputs": [
    {
     "data": {
      "application/vnd.jupyter.widget-view+json": {
       "model_id": "1dea842944824e9a9606f272b021508f",
       "version_major": 2,
       "version_minor": 0
      },
      "text/plain": [
       "HBox(children=(HTML(value=''), FloatProgress(value=0.0, max=206.0), HTML(value='')))"
      ]
     },
     "metadata": {},
     "output_type": "display_data"
    }
   ],
   "source": [
    "essay_data = [extract_data(x) for x in tqdm(essay_pages)]"
   ]
  },
  {
   "cell_type": "code",
   "execution_count": 8,
   "id": "b8d56e4b",
   "metadata": {},
   "outputs": [],
   "source": [
    "book = BeautifulSoup()\n",
    "for title, text in essay_data.reverse():\n",
    "    new_tag = book.new_tag('h1')\n",
    "    new_tag.string = title\n",
    "    book.body.append(new_tag)\n",
    "    book.body.append(text)"
   ]
  },
  {
   "cell_type": "code",
   "execution_count": 9,
   "id": "d56bc904",
   "metadata": {},
   "outputs": [],
   "source": [
    "with open(\"book.html\", \"w\", encoding='utf-8') as file:\n",
    "    file.write(str(book))"
   ]
  }
 ],
 "metadata": {
  "kernelspec": {
   "display_name": "Python 3",
   "language": "python",
   "name": "python3"
  },
  "language_info": {
   "codemirror_mode": {
    "name": "ipython",
    "version": 3
   },
   "file_extension": ".py",
   "mimetype": "text/x-python",
   "name": "python",
   "nbconvert_exporter": "python",
   "pygments_lexer": "ipython3",
   "version": "3.8.5"
  }
 },
 "nbformat": 4,
 "nbformat_minor": 5
}
